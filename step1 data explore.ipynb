{
 "cells": [
  {
   "cell_type": "code",
   "execution_count": 1,
   "metadata": {},
   "outputs": [],
   "source": [
    "#读取滴滴出行2016-10-01的轨迹数据\n",
    "import pandas as pd \n",
    "import numpy as np\n",
    "import datetime\n",
    "import time\n",
    "from pandas import Series,DataFrame\n",
    "didi= pd.read_csv('gps_20161001.csv')\n",
    "didi.columns=['Driver_ID','Order_ID','Time','Lon','Lat']"
   ]
  },
  {
   "cell_type": "code",
   "execution_count": null,
   "metadata": {},
   "outputs": [],
   "source": [
    "#用迭代器读取数量级较大的数据\n",
    "import pandas as pd \n",
    "reader=pd.read_csv('gps_20161001.csv', iterator=True)\n",
    "loop = True\n",
    "chunkSize= 10000\n",
    "chunks=[]\n",
    "while loop:\n",
    "    try:\n",
    "        chunk =reader.get_chunk(chunkSize)\n",
    "        chunks.append(chunk)\n",
    "    except StopIteration:\n",
    "        loop=False\n",
    "        print('Iteration is stopped')\n",
    "didi= pd.concat(chunks, ignore_index=True)"
   ]
  },
  {
   "cell_type": "code",
   "execution_count": null,
   "metadata": {},
   "outputs": [],
   "source": [
    "#unix 时间戳转时间\n",
    "def unix_time(t):\n",
    "    t=time.localtime(t)\n",
    "    format = '%Y-%m-%d %H:%M:%S'\n",
    "    dt=time.strftime(format, t)\n",
    "    return dt\n",
    "didi.Time=didi.Time.apply(unix_time)\n",
    "\n",
    "#写入整理后的数据\n",
    "ordertest.to_csv('order1.txt', header=True, index=False, sep='\\t', mode='a')"
   ]
  },
  {
   "cell_type": "code",
   "execution_count": 2,
   "metadata": {},
   "outputs": [],
   "source": [
    "#从geopy 包导入根据经纬度计算两点间距离的函数\n",
    "from geopy.distance import vincenty\n",
    "order1=didi.loc[didi['Order_ID'] == 'f11440a64a0f084fe346a398c62aa9ad']\n",
    "ordertest=order1.sort_values(by='Time',axis=0,ascending=True)"
   ]
  },
  {
   "cell_type": "code",
   "execution_count": 8,
   "metadata": {},
   "outputs": [
    {
     "name": "stdout",
     "output_type": "stream",
     "text": [
      "22.158192273918974\n"
     ]
    }
   ],
   "source": [
    "#计算速度\n",
    "O=(ordertest['Lat'].iloc[1],ordertest['Lon'].iloc[1])\n",
    "D=(ordertest['Lat'].iloc[354],ordertest['Lon'].iloc[354])\n",
    "S=vincenty(O,D).miles*7/5\n",
    "\n",
    "T= abs(ordertest['Time'].iloc[354]-ordertest['Time'].iloc[1])\n",
    "V=S/T*3600\n",
    "print(V)"
   ]
  },
  {
   "cell_type": "code",
   "execution_count": 20,
   "metadata": {},
   "outputs": [
    {
     "ename": "IndentationError",
     "evalue": "unindent does not match any outer indentation level (<ipython-input-20-510b40272660>, line 7)",
     "output_type": "error",
     "traceback": [
      "\u001b[0;36m  File \u001b[0;32m\"<ipython-input-20-510b40272660>\"\u001b[0;36m, line \u001b[0;32m7\u001b[0m\n\u001b[0;31m    print(V=S/T*3600)\u001b[0m\n\u001b[0m                     ^\u001b[0m\n\u001b[0;31mIndentationError\u001b[0m\u001b[0;31m:\u001b[0m unindent does not match any outer indentation level\n"
     ]
    }
   ],
   "source": [
    "#####问题在哪？\n",
    "for i,j in range(len(ordertest)):\n",
    "        O=(ordertest['Lat'].iloc[i],ordertest['Lon'].iloc[i])\n",
    "        D=(ordertest['Lat'].iloc[j],ordertest['Lon'].iloc[j])\n",
    "        S=vincenty(O,D).miles\n",
    "        T=abs(ordertest['Time'].iloc[i]-ordertest['Time'].iloc[j])\n",
    "    print(V=S/T*3600)"
   ]
  },
  {
   "cell_type": "code",
   "execution_count": 40,
   "metadata": {},
   "outputs": [
    {
     "name": "stdout",
     "output_type": "stream",
     "text": [
      "24.044978739086307\n"
     ]
    }
   ],
   "source": [
    "order2=didi.loc[didi['Order_ID'] == '4c8400cd9d84c668e29db226824369ac']\n",
    "ordertest2=order2.sort_values(by='Time',axis=0,ascending=True)\n",
    "O=(ordertest2['Lat'].iloc[100],ordertest2['Lon'].iloc[100])\n",
    "D=(ordertest2['Lat'].iloc[101],ordertest2['Lon'].iloc[101])\n",
    "S=vincenty(O,D).miles\n",
    "T= abs(ordertest2['Time'].iloc[101]-ordertest2['Time'].iloc[100])\n",
    "V=S/T*3600\n",
    "print(V)"
   ]
  }
 ],
 "metadata": {
  "kernelspec": {
   "display_name": "Python 3",
   "language": "python",
   "name": "python3"
  },
  "language_info": {
   "codemirror_mode": {
    "name": "ipython",
    "version": 3
   },
   "file_extension": ".py",
   "mimetype": "text/x-python",
   "name": "python",
   "nbconvert_exporter": "python",
   "pygments_lexer": "ipython3",
   "version": "3.6.5"
  }
 },
 "nbformat": 4,
 "nbformat_minor": 2
}
